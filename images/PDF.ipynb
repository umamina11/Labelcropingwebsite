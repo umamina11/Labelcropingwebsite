{
 "cells": [
  {
   "cell_type": "code",
   "execution_count": 1,
   "id": "7ae5814e",
   "metadata": {},
   "outputs": [
    {
     "name": "stdout",
     "output_type": "stream",
     "text": [
      "Requirement already satisfied: PyPDF2 in c:\\users\\umami\\anaconda3\\lib\\site-packages (3.0.1)\n"
     ]
    }
   ],
   "source": [
    "!pip install PyPDF2"
   ]
  },
  {
   "cell_type": "code",
   "execution_count": 7,
   "id": "39d7faad",
   "metadata": {},
   "outputs": [
    {
     "name": "stdout",
     "output_type": "stream",
     "text": [
      "Page 1 saved as outputfolder/page_1.pdf\n",
      "Page 2 saved as outputfolder/page_2.pdf\n",
      "Page 3 saved as outputfolder/page_3.pdf\n",
      "Page 4 saved as outputfolder/page_4.pdf\n",
      "Page 5 saved as outputfolder/page_5.pdf\n",
      "Page 6 saved as outputfolder/page_6.pdf\n",
      "Page 7 saved as outputfolder/page_7.pdf\n",
      "Page 8 saved as outputfolder/page_8.pdf\n",
      "Page 9 saved as outputfolder/page_9.pdf\n",
      "Page 10 saved as outputfolder/page_10.pdf\n",
      "Page 11 saved as outputfolder/page_11.pdf\n",
      "Page 12 saved as outputfolder/page_12.pdf\n",
      "Page 13 saved as outputfolder/page_13.pdf\n",
      "Page 14 saved as outputfolder/page_14.pdf\n",
      "Page 15 saved as outputfolder/page_15.pdf\n",
      "Page 16 saved as outputfolder/page_16.pdf\n",
      "Page 17 saved as outputfolder/page_17.pdf\n",
      "Page 18 saved as outputfolder/page_18.pdf\n",
      "Page 19 saved as outputfolder/page_19.pdf\n",
      "Page 20 saved as outputfolder/page_20.pdf\n",
      "Page 21 saved as outputfolder/page_21.pdf\n",
      "Page 22 saved as outputfolder/page_22.pdf\n",
      "Page 23 saved as outputfolder/page_23.pdf\n",
      "Page 24 saved as outputfolder/page_24.pdf\n",
      "Page 25 saved as outputfolder/page_25.pdf\n",
      "Page 26 saved as outputfolder/page_26.pdf\n",
      "Page 27 saved as outputfolder/page_27.pdf\n",
      "Page 28 saved as outputfolder/page_28.pdf\n"
     ]
    }
   ],
   "source": [
    "import os\n",
    "import PyPDF2\n",
    "\n",
    "def split_and_crop_pdf(input_pdf, output_folder, label_dimensions):\n",
    "    if not os.path.exists(output_folder):\n",
    "        os.makedirs(output_folder)\n",
    "    \n",
    "    with open(input_pdf, 'rb') as file:\n",
    "        reader = PyPDF2.PdfReader(file)\n",
    "        \n",
    "        for page_num in range(len(reader.pages)):\n",
    "            page = reader.pages[page_num]\n",
    "            cropped_page = (page.cropbox.lower_left + page.cropbox.upper_right +\n",
    "                            label_dimensions)\n",
    "            page.cropbox.lower_left = (cropped_page[0], cropped_page[1])\n",
    "            page.cropbox.upper_right = (cropped_page[2], cropped_page[3])\n",
    "            \n",
    "            writer = PyPDF2.PdfWriter()\n",
    "            output_pdf = f\"{output_folder}/page_{page_num + 1}.pdf\"\n",
    "            writer.add_page(page)\n",
    "            \n",
    "            with open(output_pdf, 'wb') as output_file:\n",
    "                writer.write(output_file)\n",
    "            print(f\"Page {page_num + 1} saved as {output_pdf}\")\n",
    "\n",
    "# Convert inches to points (1 inch = 72 points)\n",
    "label_dimensions_inches = (4, 6)\n",
    "label_dimensions_points = tuple(dim * 72 for dim in label_dimensions_inches)\n",
    "\n",
    "# Example usage:\n",
    "input_pdf = 'Sample1.pdf'  # Input PDF file path\n",
    "output_folder = 'outputfolder'  # Output folder path\n",
    "\n",
    "split_and_crop_pdf(input_pdf, output_folder, label_dimensions_points)\n",
    "\n"
   ]
  },
  {
   "cell_type": "code",
   "execution_count": 29,
   "id": "fc4151f0",
   "metadata": {
    "scrolled": true
   },
   "outputs": [
    {
     "name": "stdout",
     "output_type": "stream",
     "text": [
      "Upper half of page 1 saved as upper/page_1.pdf\n",
      "Upper half of page 2 saved as upper/page_2.pdf\n",
      "Upper half of page 3 saved as upper/page_3.pdf\n",
      "Upper half of page 4 saved as upper/page_4.pdf\n",
      "Upper half of page 5 saved as upper/page_5.pdf\n",
      "Upper half of page 6 saved as upper/page_6.pdf\n",
      "Upper half of page 7 saved as upper/page_7.pdf\n",
      "Upper half of page 8 saved as upper/page_8.pdf\n",
      "Upper half of page 9 saved as upper/page_9.pdf\n",
      "Upper half of page 10 saved as upper/page_10.pdf\n",
      "Upper half of page 11 saved as upper/page_11.pdf\n",
      "Upper half of page 12 saved as upper/page_12.pdf\n",
      "Upper half of page 13 saved as upper/page_13.pdf\n",
      "Upper half of page 14 saved as upper/page_14.pdf\n",
      "Upper half of page 15 saved as upper/page_15.pdf\n",
      "Upper half of page 16 saved as upper/page_16.pdf\n",
      "Upper half of page 17 saved as upper/page_17.pdf\n",
      "Upper half of page 18 saved as upper/page_18.pdf\n",
      "Upper half of page 19 saved as upper/page_19.pdf\n",
      "Upper half of page 20 saved as upper/page_20.pdf\n",
      "Upper half of page 21 saved as upper/page_21.pdf\n",
      "Upper half of page 22 saved as upper/page_22.pdf\n",
      "Upper half of page 23 saved as upper/page_23.pdf\n",
      "Upper half of page 24 saved as upper/page_24.pdf\n",
      "Upper half of page 25 saved as upper/page_25.pdf\n",
      "Upper half of page 26 saved as upper/page_26.pdf\n",
      "Upper half of page 27 saved as upper/page_27.pdf\n",
      "Upper half of page 28 saved as upper/page_28.pdf\n"
     ]
    }
   ],
   "source": [
    "import os\n",
    "import PyPDF2\n",
    "\n",
    "def split_and_crop_pdf(input_pdf, output_folder):\n",
    "    if not os.path.exists(output_folder):\n",
    "        os.makedirs(output_folder)\n",
    "    \n",
    "    with open(input_pdf, 'rb') as file:\n",
    "        reader = PyPDF2.PdfReader(file)\n",
    "        \n",
    "        for page_num in range(len(reader.pages)):\n",
    "            page = reader.pages[page_num]\n",
    "            # Calculate the width and height of the page\n",
    "            width = page.mediabox.upper_right[0] - page.mediabox.lower_left[0]\n",
    "            height = page.mediabox.upper_right[1] - page.mediabox.lower_left[1]\n",
    "\n",
    "            # Define the amount of space you want to leave at the bottom and top\n",
    "            space_to_leave_top = -62  # Adjust this value as needed\n",
    "            space_to_leave_bottom = 10  # Adjust this value as needed\n",
    "\n",
    "            # Set the crop box coordinates for the lower half of the page with a little space\n",
    "            cropped_page = (page.cropbox.lower_left[0], page.cropbox.lower_left[1] + height / 2 - space_to_leave_top,\n",
    "                            page.cropbox.lower_left[0] + width, page.cropbox.lower_left[1] + height - space_to_leave_bottom)\n",
    "            page.cropbox.lower_left = (cropped_page[0], cropped_page[1])\n",
    "            page.cropbox.upper_right = (cropped_page[2], cropped_page[3])\n",
    "\n",
    "            \n",
    "\n",
    "            \n",
    "            \n",
    "            \n",
    "            \n",
    "            writer = PyPDF2.PdfWriter()\n",
    "            output_pdf = f\"{output_folder}/page_{page_num + 1}.pdf\"\n",
    "            writer.add_page(page)\n",
    "            \n",
    "            with open(output_pdf, 'wb') as output_file:\n",
    "                writer.write(output_file)\n",
    "            print(f\"Upper half of page {page_num + 1} saved as {output_pdf}\")\n",
    "\n",
    "# Example usage:\n",
    "input_pdf = 'Sample1.pdf'  # Input PDF file path\n",
    "output_folder = 'upper'  # Output folder path\n",
    "\n",
    "split_and_crop_pdf(input_pdf, output_folder)\n",
    "\n"
   ]
  },
  {
   "cell_type": "code",
   "execution_count": null,
   "id": "1017d323",
   "metadata": {},
   "outputs": [],
   "source": []
  },
  {
   "cell_type": "code",
   "execution_count": null,
   "id": "b2cca31b",
   "metadata": {},
   "outputs": [],
   "source": []
  }
 ],
 "metadata": {
  "kernelspec": {
   "display_name": "Python 3 (ipykernel)",
   "language": "python",
   "name": "python3"
  },
  "language_info": {
   "codemirror_mode": {
    "name": "ipython",
    "version": 3
   },
   "file_extension": ".py",
   "mimetype": "text/x-python",
   "name": "python",
   "nbconvert_exporter": "python",
   "pygments_lexer": "ipython3",
   "version": "3.11.5"
  }
 },
 "nbformat": 4,
 "nbformat_minor": 5
}
